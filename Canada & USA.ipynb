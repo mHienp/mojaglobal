{
 "cells": [
  {
   "cell_type": "markdown",
   "id": "1f89643b",
   "metadata": {},
   "source": [
    "# Import libraries"
   ]
  },
  {
   "cell_type": "code",
   "execution_count": 31,
   "id": "f3f59c86",
   "metadata": {},
   "outputs": [],
   "source": [
    "import io, requests\n",
    "\n",
    "import numpy as np\n",
    "import pandas as pd\n",
    "import geopandas as gpd\n",
    "\n",
    "import rasterio as rst\n",
    "\n",
    "import matplotlib.pyplot as plt\n",
    "import seaborn as sns\n",
    "sns.set()\n",
    "\n",
    "%matplotlib inline"
   ]
  },
  {
   "cell_type": "markdown",
   "id": "074200ab",
   "metadata": {},
   "source": [
    "# Get datasets"
   ]
  },
  {
   "cell_type": "code",
   "execution_count": 2,
   "id": "b0bfe1fb",
   "metadata": {},
   "outputs": [],
   "source": [
    "def getdf(link):\n",
    "  req = requests.get(link).content\n",
    "  return gpd.read_file(io.StringIO(req.decode('utf-8')))"
   ]
  },
  {
   "cell_type": "markdown",
   "id": "084cf9a2",
   "metadata": {},
   "source": [
    "# Administrative Boundaries"
   ]
  },
  {
   "cell_type": "markdown",
   "id": "ae3f77e4",
   "metadata": {},
   "source": [
    "#### CAN_AL2_Canada.json dataset (Canada)"
   ]
  },
  {
   "cell_type": "code",
   "execution_count": 20,
   "id": "3a82a098",
   "metadata": {},
   "outputs": [],
   "source": [
    "can_country = 'https://datasets.mojaglobal.workers.dev/0:/Administrative/Boundaries/Level2%20by%20Country/CAN/CAN_AL2_Canada.json'\n",
    "can_country_df = getdf(can_ct)"
   ]
  },
  {
   "cell_type": "code",
   "execution_count": 21,
   "id": "2402c949",
   "metadata": {},
   "outputs": [
    {
     "data": {
      "text/html": [
       "<div>\n",
       "<style scoped>\n",
       "    .dataframe tbody tr th:only-of-type {\n",
       "        vertical-align: middle;\n",
       "    }\n",
       "\n",
       "    .dataframe tbody tr th {\n",
       "        vertical-align: top;\n",
       "    }\n",
       "\n",
       "    .dataframe thead th {\n",
       "        text-align: right;\n",
       "    }\n",
       "</style>\n",
       "<table border=\"1\" class=\"dataframe\">\n",
       "  <thead>\n",
       "    <tr style=\"text-align: right;\">\n",
       "      <th></th>\n",
       "      <th>geometry</th>\n",
       "    </tr>\n",
       "  </thead>\n",
       "  <tbody>\n",
       "  </tbody>\n",
       "</table>\n",
       "</div>"
      ],
      "text/plain": [
       "Empty GeoDataFrame\n",
       "Columns: [geometry]\n",
       "Index: []"
      ]
     },
     "execution_count": 21,
     "metadata": {},
     "output_type": "execute_result"
    }
   ],
   "source": [
    "can_country_df"
   ]
  },
  {
   "cell_type": "markdown",
   "id": "c5a5655f",
   "metadata": {},
   "source": [
    "****** not sure what happens here ******"
   ]
  },
  {
   "cell_type": "markdown",
   "id": "409e7cb4",
   "metadata": {},
   "source": [
    "#### CAN_AL2_Canada_GEZ.json dataset (Canada)"
   ]
  },
  {
   "cell_type": "code",
   "execution_count": 3,
   "id": "c45f6c02",
   "metadata": {},
   "outputs": [],
   "source": [
    "can = 'https://datasets.mojaglobal.workers.dev/0:/Administrative/Boundaries/Level2%20by%20Country/CAN/CAN_AL2_Canada_GEZ.json'\n",
    "can_df = getdf(can)"
   ]
  },
  {
   "cell_type": "code",
   "execution_count": 4,
   "id": "7f6d787f",
   "metadata": {},
   "outputs": [
    {
     "data": {
      "text/plain": [
       "(3, 8)"
      ]
     },
     "execution_count": 4,
     "metadata": {},
     "output_type": "execute_result"
    }
   ],
   "source": [
    "can_df.shape"
   ]
  },
  {
   "cell_type": "code",
   "execution_count": 5,
   "id": "97eec536",
   "metadata": {},
   "outputs": [
    {
     "data": {
      "text/html": [
       "<div>\n",
       "<style scoped>\n",
       "    .dataframe tbody tr th:only-of-type {\n",
       "        vertical-align: middle;\n",
       "    }\n",
       "\n",
       "    .dataframe tbody tr th {\n",
       "        vertical-align: top;\n",
       "    }\n",
       "\n",
       "    .dataframe thead th {\n",
       "        text-align: right;\n",
       "    }\n",
       "</style>\n",
       "<table border=\"1\" class=\"dataframe\">\n",
       "  <thead>\n",
       "    <tr style=\"text-align: right;\">\n",
       "      <th></th>\n",
       "      <th>country</th>\n",
       "      <th>ISO3166_2</th>\n",
       "      <th>name</th>\n",
       "      <th>gez_name</th>\n",
       "      <th>gez_code</th>\n",
       "      <th>gez_abbrev</th>\n",
       "      <th>adminlevel</th>\n",
       "      <th>geometry</th>\n",
       "    </tr>\n",
       "  </thead>\n",
       "  <tbody>\n",
       "    <tr>\n",
       "      <th>0</th>\n",
       "      <td>CAN</td>\n",
       "      <td></td>\n",
       "      <td>Canada</td>\n",
       "      <td>Boreal coniferous forest</td>\n",
       "      <td>41</td>\n",
       "      <td>Ba</td>\n",
       "      <td>2</td>\n",
       "      <td>MULTIPOLYGON (((306.59826 46.71342, 306.59850 ...</td>\n",
       "    </tr>\n",
       "    <tr>\n",
       "      <th>1</th>\n",
       "      <td>CAN</td>\n",
       "      <td></td>\n",
       "      <td>Canada</td>\n",
       "      <td>Boreal mountain system</td>\n",
       "      <td>43</td>\n",
       "      <td>BM</td>\n",
       "      <td>2</td>\n",
       "      <td>MULTIPOLYGON (((229.51665 54.82880, 229.51665 ...</td>\n",
       "    </tr>\n",
       "    <tr>\n",
       "      <th>2</th>\n",
       "      <td>CAN</td>\n",
       "      <td></td>\n",
       "      <td>Canada</td>\n",
       "      <td>Boreal tundra woodland</td>\n",
       "      <td>42</td>\n",
       "      <td>Bb</td>\n",
       "      <td>2</td>\n",
       "      <td>MULTIPOLYGON (((281.16608 51.14961, 281.16526 ...</td>\n",
       "    </tr>\n",
       "  </tbody>\n",
       "</table>\n",
       "</div>"
      ],
      "text/plain": [
       "  country ISO3166_2    name                  gez_name  gez_code gez_abbrev  \\\n",
       "0     CAN            Canada  Boreal coniferous forest        41         Ba   \n",
       "1     CAN            Canada    Boreal mountain system        43         BM   \n",
       "2     CAN            Canada    Boreal tundra woodland        42         Bb   \n",
       "\n",
       "   adminlevel                                           geometry  \n",
       "0           2  MULTIPOLYGON (((306.59826 46.71342, 306.59850 ...  \n",
       "1           2  MULTIPOLYGON (((229.51665 54.82880, 229.51665 ...  \n",
       "2           2  MULTIPOLYGON (((281.16608 51.14961, 281.16526 ...  "
      ]
     },
     "execution_count": 5,
     "metadata": {},
     "output_type": "execute_result"
    }
   ],
   "source": [
    "can_df"
   ]
  },
  {
   "cell_type": "code",
   "execution_count": 7,
   "id": "98eb9ebc",
   "metadata": {},
   "outputs": [
    {
     "data": {
      "text/html": [
       "<div>\n",
       "<style scoped>\n",
       "    .dataframe tbody tr th:only-of-type {\n",
       "        vertical-align: middle;\n",
       "    }\n",
       "\n",
       "    .dataframe tbody tr th {\n",
       "        vertical-align: top;\n",
       "    }\n",
       "\n",
       "    .dataframe thead th {\n",
       "        text-align: right;\n",
       "    }\n",
       "</style>\n",
       "<table border=\"1\" class=\"dataframe\">\n",
       "  <thead>\n",
       "    <tr style=\"text-align: right;\">\n",
       "      <th></th>\n",
       "      <th>country</th>\n",
       "      <th>name</th>\n",
       "      <th>gez_name</th>\n",
       "      <th>gez_code</th>\n",
       "      <th>gez_abbrev</th>\n",
       "      <th>geometry</th>\n",
       "    </tr>\n",
       "  </thead>\n",
       "  <tbody>\n",
       "    <tr>\n",
       "      <th>0</th>\n",
       "      <td>CAN</td>\n",
       "      <td>Canada</td>\n",
       "      <td>Boreal coniferous forest</td>\n",
       "      <td>41</td>\n",
       "      <td>Ba</td>\n",
       "      <td>MULTIPOLYGON (((306.59826 46.71342, 306.59850 ...</td>\n",
       "    </tr>\n",
       "    <tr>\n",
       "      <th>1</th>\n",
       "      <td>CAN</td>\n",
       "      <td>Canada</td>\n",
       "      <td>Boreal mountain system</td>\n",
       "      <td>43</td>\n",
       "      <td>BM</td>\n",
       "      <td>MULTIPOLYGON (((229.51665 54.82880, 229.51665 ...</td>\n",
       "    </tr>\n",
       "    <tr>\n",
       "      <th>2</th>\n",
       "      <td>CAN</td>\n",
       "      <td>Canada</td>\n",
       "      <td>Boreal tundra woodland</td>\n",
       "      <td>42</td>\n",
       "      <td>Bb</td>\n",
       "      <td>MULTIPOLYGON (((281.16608 51.14961, 281.16526 ...</td>\n",
       "    </tr>\n",
       "  </tbody>\n",
       "</table>\n",
       "</div>"
      ],
      "text/plain": [
       "  country    name                  gez_name  gez_code gez_abbrev  \\\n",
       "0     CAN  Canada  Boreal coniferous forest        41         Ba   \n",
       "1     CAN  Canada    Boreal mountain system        43         BM   \n",
       "2     CAN  Canada    Boreal tundra woodland        42         Bb   \n",
       "\n",
       "                                            geometry  \n",
       "0  MULTIPOLYGON (((306.59826 46.71342, 306.59850 ...  \n",
       "1  MULTIPOLYGON (((229.51665 54.82880, 229.51665 ...  \n",
       "2  MULTIPOLYGON (((281.16608 51.14961, 281.16526 ...  "
      ]
     },
     "execution_count": 7,
     "metadata": {},
     "output_type": "execute_result"
    }
   ],
   "source": [
    "can_df = can_df.drop('ISO3166_2', axis=1)\n",
    "can_df = can_df.drop('adminlevel', axis=1)\n",
    "can_df"
   ]
  },
  {
   "cell_type": "code",
   "execution_count": 9,
   "id": "38ee0033",
   "metadata": {},
   "outputs": [
    {
     "data": {
      "text/html": [
       "<div>\n",
       "<style scoped>\n",
       "    .dataframe tbody tr th:only-of-type {\n",
       "        vertical-align: middle;\n",
       "    }\n",
       "\n",
       "    .dataframe tbody tr th {\n",
       "        vertical-align: top;\n",
       "    }\n",
       "\n",
       "    .dataframe thead th {\n",
       "        text-align: right;\n",
       "    }\n",
       "</style>\n",
       "<table border=\"1\" class=\"dataframe\">\n",
       "  <thead>\n",
       "    <tr style=\"text-align: right;\">\n",
       "      <th></th>\n",
       "      <th>name</th>\n",
       "      <th>geometry</th>\n",
       "    </tr>\n",
       "  </thead>\n",
       "  <tbody>\n",
       "    <tr>\n",
       "      <th>0</th>\n",
       "      <td>Canada</td>\n",
       "      <td>MULTIPOLYGON (((306.59826 46.71342, 306.59850 ...</td>\n",
       "    </tr>\n",
       "    <tr>\n",
       "      <th>1</th>\n",
       "      <td>Canada</td>\n",
       "      <td>MULTIPOLYGON (((229.51665 54.82880, 229.51665 ...</td>\n",
       "    </tr>\n",
       "    <tr>\n",
       "      <th>2</th>\n",
       "      <td>Canada</td>\n",
       "      <td>MULTIPOLYGON (((281.16608 51.14961, 281.16526 ...</td>\n",
       "    </tr>\n",
       "  </tbody>\n",
       "</table>\n",
       "</div>"
      ],
      "text/plain": [
       "     name                                           geometry\n",
       "0  Canada  MULTIPOLYGON (((306.59826 46.71342, 306.59850 ...\n",
       "1  Canada  MULTIPOLYGON (((229.51665 54.82880, 229.51665 ...\n",
       "2  Canada  MULTIPOLYGON (((281.16608 51.14961, 281.16526 ..."
      ]
     },
     "execution_count": 9,
     "metadata": {},
     "output_type": "execute_result"
    }
   ],
   "source": [
    "canada_df=can_df.copy()\n",
    "canada_df=canada_df[['name', 'geometry']]\n",
    "canada_df"
   ]
  },
  {
   "cell_type": "code",
   "execution_count": 12,
   "id": "dd583489",
   "metadata": {},
   "outputs": [],
   "source": [
    "can_df.to_csv('can.csv')\n",
    "canada_df.to_csv('canada.csv')"
   ]
  },
  {
   "cell_type": "markdown",
   "id": "8422af6f",
   "metadata": {},
   "source": [
    "#### USA_AL2_United States_GEZ.json dataset (United States)"
   ]
  },
  {
   "cell_type": "code",
   "execution_count": 11,
   "id": "c35a8a35",
   "metadata": {},
   "outputs": [],
   "source": [
    "usa = 'https://datasets.mojaglobal.workers.dev/0:/Administrative/Boundaries/Level2%20by%20Country/USA/USA_AL2_United States_GEZ.json'\n",
    "usa_df = getdf(usa)"
   ]
  },
  {
   "cell_type": "code",
   "execution_count": 13,
   "id": "e72a7b98",
   "metadata": {},
   "outputs": [
    {
     "data": {
      "text/plain": [
       "(5, 8)"
      ]
     },
     "execution_count": 13,
     "metadata": {},
     "output_type": "execute_result"
    }
   ],
   "source": [
    "usa_df.shape"
   ]
  },
  {
   "cell_type": "code",
   "execution_count": 14,
   "id": "2911df4f",
   "metadata": {},
   "outputs": [
    {
     "data": {
      "text/html": [
       "<div>\n",
       "<style scoped>\n",
       "    .dataframe tbody tr th:only-of-type {\n",
       "        vertical-align: middle;\n",
       "    }\n",
       "\n",
       "    .dataframe tbody tr th {\n",
       "        vertical-align: top;\n",
       "    }\n",
       "\n",
       "    .dataframe thead th {\n",
       "        text-align: right;\n",
       "    }\n",
       "</style>\n",
       "<table border=\"1\" class=\"dataframe\">\n",
       "  <thead>\n",
       "    <tr style=\"text-align: right;\">\n",
       "      <th></th>\n",
       "      <th>country</th>\n",
       "      <th>ISO3166_2</th>\n",
       "      <th>name</th>\n",
       "      <th>gez_name</th>\n",
       "      <th>gez_code</th>\n",
       "      <th>gez_abbrev</th>\n",
       "      <th>adminlevel</th>\n",
       "      <th>geometry</th>\n",
       "    </tr>\n",
       "  </thead>\n",
       "  <tbody>\n",
       "    <tr>\n",
       "      <th>0</th>\n",
       "      <td>USA</td>\n",
       "      <td></td>\n",
       "      <td>United States</td>\n",
       "      <td>Boreal mountain system</td>\n",
       "      <td>43</td>\n",
       "      <td>BM</td>\n",
       "      <td>2</td>\n",
       "      <td>MULTIPOLYGON (((229.40567 54.79152, 229.40578 ...</td>\n",
       "    </tr>\n",
       "    <tr>\n",
       "      <th>1</th>\n",
       "      <td>USA</td>\n",
       "      <td></td>\n",
       "      <td>United States</td>\n",
       "      <td>Boreal tundra woodland</td>\n",
       "      <td>42</td>\n",
       "      <td>Bb</td>\n",
       "      <td>2</td>\n",
       "      <td>MULTIPOLYGON (((205.68254 59.77864, 205.68253 ...</td>\n",
       "    </tr>\n",
       "    <tr>\n",
       "      <th>2</th>\n",
       "      <td>USA</td>\n",
       "      <td></td>\n",
       "      <td>United States</td>\n",
       "      <td>Polar</td>\n",
       "      <td>50</td>\n",
       "      <td>P</td>\n",
       "      <td>2</td>\n",
       "      <td>MULTIPOLYGON (((180.92142 51.28453, 180.92071 ...</td>\n",
       "    </tr>\n",
       "    <tr>\n",
       "      <th>3</th>\n",
       "      <td>USA</td>\n",
       "      <td></td>\n",
       "      <td>United States</td>\n",
       "      <td>Subtropical desert</td>\n",
       "      <td>24</td>\n",
       "      <td>SBWh</td>\n",
       "      <td>2</td>\n",
       "      <td>POLYGON ((245.56067 37.35094, 245.55847 37.351...</td>\n",
       "    </tr>\n",
       "    <tr>\n",
       "      <th>4</th>\n",
       "      <td>USA</td>\n",
       "      <td></td>\n",
       "      <td>United States</td>\n",
       "      <td>Subtropical dry forest</td>\n",
       "      <td>22</td>\n",
       "      <td>SCs</td>\n",
       "      <td>2</td>\n",
       "      <td>MULTIPOLYGON (((238.19459 38.01701, 238.19519 ...</td>\n",
       "    </tr>\n",
       "  </tbody>\n",
       "</table>\n",
       "</div>"
      ],
      "text/plain": [
       "  country ISO3166_2           name                gez_name  gez_code  \\\n",
       "0     USA            United States  Boreal mountain system        43   \n",
       "1     USA            United States  Boreal tundra woodland        42   \n",
       "2     USA            United States                   Polar        50   \n",
       "3     USA            United States      Subtropical desert        24   \n",
       "4     USA            United States  Subtropical dry forest        22   \n",
       "\n",
       "  gez_abbrev  adminlevel                                           geometry  \n",
       "0         BM           2  MULTIPOLYGON (((229.40567 54.79152, 229.40578 ...  \n",
       "1         Bb           2  MULTIPOLYGON (((205.68254 59.77864, 205.68253 ...  \n",
       "2          P           2  MULTIPOLYGON (((180.92142 51.28453, 180.92071 ...  \n",
       "3       SBWh           2  POLYGON ((245.56067 37.35094, 245.55847 37.351...  \n",
       "4        SCs           2  MULTIPOLYGON (((238.19459 38.01701, 238.19519 ...  "
      ]
     },
     "execution_count": 14,
     "metadata": {},
     "output_type": "execute_result"
    }
   ],
   "source": [
    "usa_df"
   ]
  },
  {
   "cell_type": "code",
   "execution_count": 15,
   "id": "dfde2691",
   "metadata": {},
   "outputs": [
    {
     "data": {
      "text/html": [
       "<div>\n",
       "<style scoped>\n",
       "    .dataframe tbody tr th:only-of-type {\n",
       "        vertical-align: middle;\n",
       "    }\n",
       "\n",
       "    .dataframe tbody tr th {\n",
       "        vertical-align: top;\n",
       "    }\n",
       "\n",
       "    .dataframe thead th {\n",
       "        text-align: right;\n",
       "    }\n",
       "</style>\n",
       "<table border=\"1\" class=\"dataframe\">\n",
       "  <thead>\n",
       "    <tr style=\"text-align: right;\">\n",
       "      <th></th>\n",
       "      <th>country</th>\n",
       "      <th>name</th>\n",
       "      <th>gez_name</th>\n",
       "      <th>gez_code</th>\n",
       "      <th>gez_abbrev</th>\n",
       "      <th>geometry</th>\n",
       "    </tr>\n",
       "  </thead>\n",
       "  <tbody>\n",
       "    <tr>\n",
       "      <th>0</th>\n",
       "      <td>USA</td>\n",
       "      <td>United States</td>\n",
       "      <td>Boreal mountain system</td>\n",
       "      <td>43</td>\n",
       "      <td>BM</td>\n",
       "      <td>MULTIPOLYGON (((229.40567 54.79152, 229.40578 ...</td>\n",
       "    </tr>\n",
       "    <tr>\n",
       "      <th>1</th>\n",
       "      <td>USA</td>\n",
       "      <td>United States</td>\n",
       "      <td>Boreal tundra woodland</td>\n",
       "      <td>42</td>\n",
       "      <td>Bb</td>\n",
       "      <td>MULTIPOLYGON (((205.68254 59.77864, 205.68253 ...</td>\n",
       "    </tr>\n",
       "    <tr>\n",
       "      <th>2</th>\n",
       "      <td>USA</td>\n",
       "      <td>United States</td>\n",
       "      <td>Polar</td>\n",
       "      <td>50</td>\n",
       "      <td>P</td>\n",
       "      <td>MULTIPOLYGON (((180.92142 51.28453, 180.92071 ...</td>\n",
       "    </tr>\n",
       "    <tr>\n",
       "      <th>3</th>\n",
       "      <td>USA</td>\n",
       "      <td>United States</td>\n",
       "      <td>Subtropical desert</td>\n",
       "      <td>24</td>\n",
       "      <td>SBWh</td>\n",
       "      <td>POLYGON ((245.56067 37.35094, 245.55847 37.351...</td>\n",
       "    </tr>\n",
       "    <tr>\n",
       "      <th>4</th>\n",
       "      <td>USA</td>\n",
       "      <td>United States</td>\n",
       "      <td>Subtropical dry forest</td>\n",
       "      <td>22</td>\n",
       "      <td>SCs</td>\n",
       "      <td>MULTIPOLYGON (((238.19459 38.01701, 238.19519 ...</td>\n",
       "    </tr>\n",
       "  </tbody>\n",
       "</table>\n",
       "</div>"
      ],
      "text/plain": [
       "  country           name                gez_name  gez_code gez_abbrev  \\\n",
       "0     USA  United States  Boreal mountain system        43         BM   \n",
       "1     USA  United States  Boreal tundra woodland        42         Bb   \n",
       "2     USA  United States                   Polar        50          P   \n",
       "3     USA  United States      Subtropical desert        24       SBWh   \n",
       "4     USA  United States  Subtropical dry forest        22        SCs   \n",
       "\n",
       "                                            geometry  \n",
       "0  MULTIPOLYGON (((229.40567 54.79152, 229.40578 ...  \n",
       "1  MULTIPOLYGON (((205.68254 59.77864, 205.68253 ...  \n",
       "2  MULTIPOLYGON (((180.92142 51.28453, 180.92071 ...  \n",
       "3  POLYGON ((245.56067 37.35094, 245.55847 37.351...  \n",
       "4  MULTIPOLYGON (((238.19459 38.01701, 238.19519 ...  "
      ]
     },
     "execution_count": 15,
     "metadata": {},
     "output_type": "execute_result"
    }
   ],
   "source": [
    "usa_df = usa_df.drop('ISO3166_2', axis=1)\n",
    "usa_df = usa_df.drop('adminlevel', axis=1)\n",
    "usa_df"
   ]
  },
  {
   "cell_type": "code",
   "execution_count": 16,
   "id": "b7c5f60c",
   "metadata": {},
   "outputs": [
    {
     "data": {
      "text/html": [
       "<div>\n",
       "<style scoped>\n",
       "    .dataframe tbody tr th:only-of-type {\n",
       "        vertical-align: middle;\n",
       "    }\n",
       "\n",
       "    .dataframe tbody tr th {\n",
       "        vertical-align: top;\n",
       "    }\n",
       "\n",
       "    .dataframe thead th {\n",
       "        text-align: right;\n",
       "    }\n",
       "</style>\n",
       "<table border=\"1\" class=\"dataframe\">\n",
       "  <thead>\n",
       "    <tr style=\"text-align: right;\">\n",
       "      <th></th>\n",
       "      <th>name</th>\n",
       "      <th>geometry</th>\n",
       "    </tr>\n",
       "  </thead>\n",
       "  <tbody>\n",
       "    <tr>\n",
       "      <th>0</th>\n",
       "      <td>United States</td>\n",
       "      <td>MULTIPOLYGON (((229.40567 54.79152, 229.40578 ...</td>\n",
       "    </tr>\n",
       "    <tr>\n",
       "      <th>1</th>\n",
       "      <td>United States</td>\n",
       "      <td>MULTIPOLYGON (((205.68254 59.77864, 205.68253 ...</td>\n",
       "    </tr>\n",
       "    <tr>\n",
       "      <th>2</th>\n",
       "      <td>United States</td>\n",
       "      <td>MULTIPOLYGON (((180.92142 51.28453, 180.92071 ...</td>\n",
       "    </tr>\n",
       "    <tr>\n",
       "      <th>3</th>\n",
       "      <td>United States</td>\n",
       "      <td>POLYGON ((245.56067 37.35094, 245.55847 37.351...</td>\n",
       "    </tr>\n",
       "    <tr>\n",
       "      <th>4</th>\n",
       "      <td>United States</td>\n",
       "      <td>MULTIPOLYGON (((238.19459 38.01701, 238.19519 ...</td>\n",
       "    </tr>\n",
       "  </tbody>\n",
       "</table>\n",
       "</div>"
      ],
      "text/plain": [
       "            name                                           geometry\n",
       "0  United States  MULTIPOLYGON (((229.40567 54.79152, 229.40578 ...\n",
       "1  United States  MULTIPOLYGON (((205.68254 59.77864, 205.68253 ...\n",
       "2  United States  MULTIPOLYGON (((180.92142 51.28453, 180.92071 ...\n",
       "3  United States  POLYGON ((245.56067 37.35094, 245.55847 37.351...\n",
       "4  United States  MULTIPOLYGON (((238.19459 38.01701, 238.19519 ..."
      ]
     },
     "execution_count": 16,
     "metadata": {},
     "output_type": "execute_result"
    }
   ],
   "source": [
    "ustates_df=usa_df.copy()\n",
    "ustates_df=ustates_df[['name', 'geometry']]\n",
    "ustates_df"
   ]
  },
  {
   "cell_type": "code",
   "execution_count": 18,
   "id": "96384d56",
   "metadata": {},
   "outputs": [],
   "source": [
    "usa_df.to_csv('usa.csv')\n",
    "ustates_df.to_csv('ustates.csv')"
   ]
  },
  {
   "cell_type": "code",
   "execution_count": 35,
   "id": "32661da3",
   "metadata": {},
   "outputs": [
    {
     "data": {
      "image/png": "[encoded data removed]",
      "text/plain": [
       "<Figure size 936x720 with 1 Axes>"
      ]
     },
     "metadata": {
      "needs_background": "light"
     },
     "output_type": "display_data"
    }
   ],
   "source": [
    "boundaries_df = pd.concat([canada_df, ustates_df], axis=0)\n",
    "\n",
    "fig, ax = plt.subplots(1, 1, figsize=(13, 10))\n",
    "ax.set_title('ADMINISTRATIVE BOUNDARIES', fontsize=20)\n",
    "boundaries_df.plot(ax=ax, color = '#A68072')\n",
    "plt.show()"
   ]
  },
  {
   "cell_type": "code",
   "execution_count": null,
   "id": "10188fd8",
   "metadata": {},
   "outputs": [],
   "source": []
  },
  {
   "cell_type": "code",
   "execution_count": null,
   "id": "c2b4585f",
   "metadata": {},
   "outputs": [],
   "source": []
  }
 ],
 "metadata": {
  "kernelspec": {
   "display_name": "Python 3",
   "language": "python",
   "name": "python3"
  },
  "language_info": {
   "codemirror_mode": {
    "name": "ipython",
    "version": 3
   },
   "file_extension": ".py",
   "mimetype": "text/x-python",
   "name": "python",
   "nbconvert_exporter": "python",
   "pygments_lexer": "ipython3",
   "version": "3.8.8"
  }
 },
 "nbformat": 4,
 "nbformat_minor": 5
}
